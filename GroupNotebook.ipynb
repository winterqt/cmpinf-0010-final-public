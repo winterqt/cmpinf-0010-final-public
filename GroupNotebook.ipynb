{
 "cells": [
  {
   "cell_type": "markdown",
   "id": "78b0287d-2b2f-4e79-beeb-1350f6c4ef50",
   "metadata": {},
   "source": [
    "<h1>Introduction</h1>\n",
    "\n",
    "In this project, we are trying to answer the question: **What is the best neighborhood in Pittsburgh?** Our team's approach to answering this question is to define the \"best\" neighborhood as *the most fun* neighborhood. Before we landed on this metric, we brainstormed and discussed other potential metrics such as safety, education, cleanliness, and ease of transportation or finding housing. We explored these alternative metrics by scouring datasets on WPRDC and listing them under each potential metric. After this process, we found that the metric \"fun\" had the most flexibility with choosing appropriate datasets, we were interested in this metric the most."
   ]
  },
  {
   "cell_type": "markdown",
   "id": "55c6a4d9-962a-4bd3-b92e-98e6a83d22e2",
   "metadata": {},
   "source": [
    "<h1>Our Metric: Fun</h1>\n",
    "\n",
    "How **fun** a neighborhood is can boil down into several key aspects about neighborhoods like safety, recreation, aesthetic, and ease of getting around. For our project, we've focused on one of these aspects: recreation. To quantify this, we will analyze and compare the number of *recreational city facilities* (parks, playgrounds, ballfields, courts, etc.) in each neighborhood from a PGH Department of Public Works dataset, as well as the *distinct types* of some of these recreational facilities. We will also quantify recreation by analyzing a dataset of *pools in each neighborhood* and compare these numbers from each neighborhood from a City of Pittsburgh dataset."
   ]
  },
  {
   "cell_type": "markdown",
   "id": "a94beb71-1756-453f-be06-3ce721e4b539",
   "metadata": {},
   "source": [
    "<h1>The Best Neighborhood: Squirrel Hill South </h1>"
   ]
  },
  {
   "cell_type": "markdown",
   "id": "fa87d20c-56e3-4a2f-8232-61dafcc8742b",
   "metadata": {},
   "source": [
    "# Conclusions\n",
    "\n",
    "### Anthony\n",
    "\n",
    "I live 30 minutes away from pittsburgh in upper st clair and intill this year I really have not been to the city very many times so I did not know much about the different neighborhoods however from the times that I have passed through  neighborhood I find it quite easy to believe that it is one of the better ones in pittsburgh. From what I remember all of the house seemed well maintained and it was Overall a nice location.\n",
    "\n",
    "### Winter\n",
    "\n",
    "I was surprised at the breadth of different public activities available to people in every neighborhood of Pittsburgh, and I was also surprised that Squirrel Hill South consistently came up above most other neighborhoods by comparison despite it not being the most populated area.\n",
    "\n",
    "### Madelyn\n",
    "\n",
    "When we first decided on this metric, I personally thought that the winner would be Strip District, Squirrel Hill, or Oakland. From personal experience, I've gotten to explore these neighborhoods the most and had the most fun in them. It wasn't too much of a surprise that Squirrel Hill came out on top, because I know it's a big neighborhood, and theres alot to explore in the area from restaurants to shops to little parks. I'm most surprised by the runner-ups. I feel like I haven't heard much at all about Brookline or Perry North, let alone how \"fun\" they are. Highland Park sounded familiar, but I definitely haven't heard anythig about how fun the neighborhood is."
   ]
  }
 ],
 "metadata": {
  "kernelspec": {
   "display_name": "Python 3 (ipykernel)",
   "language": "python",
   "name": "python3"
  },
  "language_info": {
   "codemirror_mode": {
    "name": "ipython",
    "version": 3
   },
   "file_extension": ".py",
   "mimetype": "text/x-python",
   "name": "python",
   "nbconvert_exporter": "python",
   "pygments_lexer": "ipython3",
   "version": "3.12.7"
  }
 },
 "nbformat": 4,
 "nbformat_minor": 5
}
