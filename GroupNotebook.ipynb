{
 "cells": [
  {
   "cell_type": "markdown",
   "id": "78b0287d-2b2f-4e79-beeb-1350f6c4ef50",
   "metadata": {},
   "source": [
    "<h1>Introduction</h1>\n",
    "\n",
    "In this project, we are trying to answer the question: **What is the best neighborhood in Pittsburgh?** My team's approach to answering this question is to define the \"best\" neighborhood as *the most fun* neighborhood. Before we landed on this metric, we brainstormed and discussed other potential metrics such as safety, education, cleanliness, and ease of transportation or finding housing. We explored these alternative metrics by scouring datasets on WPRDC and listing them under each potential metric. After this process, we found that the metric \"fun\" had the most flexibility with choosing appropriate datasets, and for me personally, I was interested in this metric the most."
   ]
  },
  {
   "cell_type": "markdown",
   "id": "55c6a4d9-962a-4bd3-b92e-98e6a83d22e2",
   "metadata": {},
   "source": [
    "<h1>Our Metric: Fun</h1>\n",
    "\n",
    "How **fun** a neighborhood is can boil down into several key aspects about neighborhoods like safety, recreation, aesthetic, and ease of getting around. For our project, we've focused on 2 of those aspects, recreation and how easy it is to get around. To quantify **ease of getting around** we will analyze *the number of POGOH bike stations there are* and compare these numbers among each neighborohod. To quantify **recreation**, we will analyze and compare the number of *recreational city facilities* (parks, playgrounds, ballfields, courts, etc.) in each neighborhood from a PGH Department of Public Works dataset. We will also quantify recreation by analyzing a dataset of *pools in each neighborhood* and compare these numbers from each neighborhood from a City of Pittsburgh dataset."
   ]
  },
  {
   "cell_type": "markdown",
   "id": "a94beb71-1756-453f-be06-3ce721e4b539",
   "metadata": {},
   "source": [
    "<h1>The Best Neighborhood: _____ </h1>"
   ]
  },
  {
   "cell_type": "markdown",
   "id": "fa87d20c-56e3-4a2f-8232-61dafcc8742b",
   "metadata": {},
   "source": [
    "# Conclusions\n",
    "\n",
    "### Anthony\n",
    "### Winter\n",
    "### Madelyn\n"
   ]
  }
 ],
 "metadata": {
  "kernelspec": {
   "display_name": "Python 3 (ipykernel)",
   "language": "python",
   "name": "python3"
  },
  "language_info": {
   "codemirror_mode": {
    "name": "ipython",
    "version": 3
   },
   "file_extension": ".py",
   "mimetype": "text/x-python",
   "name": "python",
   "nbconvert_exporter": "python",
   "pygments_lexer": "ipython3",
   "version": "3.12.7"
  }
 },
 "nbformat": 4,
 "nbformat_minor": 5
}
