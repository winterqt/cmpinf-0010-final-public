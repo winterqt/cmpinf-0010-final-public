{
 "cells": [
  {
   "cell_type": "markdown",
   "id": "846a83e6-4b3e-479e-ae33-8f70fb651e44",
   "metadata": {},
   "source": [
    "Let's import the data."
   ]
  },
  {
   "cell_type": "code",
   "execution_count": 1,
   "id": "f746c97a-f03a-4288-93f1-d42e449f8d70",
   "metadata": {},
   "outputs": [],
   "source": [
    "import pandas as pd\n",
    "\n",
    "data = pd.read_csv(\"courts.csv\")"
   ]
  },
  {
   "cell_type": "markdown",
   "id": "d3d3c224-f0a5-40e0-afe6-f56b6fc55fd5",
   "metadata": {},
   "source": [
    "Now, let's create a list with this data from each neighborhood:\n",
    "\n",
    "- the amount of unique types of courts there are\n",
    "- the total amount of courts"
   ]
  },
  {
   "cell_type": "code",
   "execution_count": 2,
   "id": "53296385-5233-4b71-b87e-353ebd6dcb88",
   "metadata": {},
   "outputs": [],
   "source": [
    "ns = []\n",
    "\n",
    "for n in data[\"neighborhood\"].unique():\n",
    "    ours = data[data[\"neighborhood\"] == n]\n",
    "    ns.append([n, len(ours[\"type\"].unique()), len(ours)])"
   ]
  },
  {
   "cell_type": "markdown",
   "id": "403cc34c-596c-48a3-b6a8-28b2ef4f97ac",
   "metadata": {},
   "source": [
    "Let's make a dataframe from it, and show the top 10 neighborhoods that have the most unique court types within them."
   ]
  },
  {
   "cell_type": "code",
   "execution_count": 3,
   "id": "de11397b-6e7b-4cb1-826b-eb70f5a67222",
   "metadata": {},
   "outputs": [
    {
     "data": {
      "text/html": [
       "<div>\n",
       "<style scoped>\n",
       "    .dataframe tbody tr th:only-of-type {\n",
       "        vertical-align: middle;\n",
       "    }\n",
       "\n",
       "    .dataframe tbody tr th {\n",
       "        vertical-align: top;\n",
       "    }\n",
       "\n",
       "    .dataframe thead th {\n",
       "        text-align: right;\n",
       "    }\n",
       "</style>\n",
       "<table border=\"1\" class=\"dataframe\">\n",
       "  <thead>\n",
       "    <tr style=\"text-align: right;\">\n",
       "      <th></th>\n",
       "      <th>Neighborhood</th>\n",
       "      <th># of unique court types</th>\n",
       "      <th># of courts</th>\n",
       "    </tr>\n",
       "  </thead>\n",
       "  <tbody>\n",
       "    <tr>\n",
       "      <th>17</th>\n",
       "      <td>Squirrel Hill South</td>\n",
       "      <td>6</td>\n",
       "      <td>26</td>\n",
       "    </tr>\n",
       "    <tr>\n",
       "      <th>38</th>\n",
       "      <td>Highland Park</td>\n",
       "      <td>5</td>\n",
       "      <td>20</td>\n",
       "    </tr>\n",
       "    <tr>\n",
       "      <th>11</th>\n",
       "      <td>Brookline</td>\n",
       "      <td>5</td>\n",
       "      <td>9</td>\n",
       "    </tr>\n",
       "    <tr>\n",
       "      <th>0</th>\n",
       "      <td>Allegheny Center</td>\n",
       "      <td>4</td>\n",
       "      <td>9</td>\n",
       "    </tr>\n",
       "    <tr>\n",
       "      <th>52</th>\n",
       "      <td>Bloomfield</td>\n",
       "      <td>4</td>\n",
       "      <td>5</td>\n",
       "    </tr>\n",
       "    <tr>\n",
       "      <th>4</th>\n",
       "      <td>South Side Flats</td>\n",
       "      <td>4</td>\n",
       "      <td>5</td>\n",
       "    </tr>\n",
       "    <tr>\n",
       "      <th>12</th>\n",
       "      <td>Hazelwood</td>\n",
       "      <td>4</td>\n",
       "      <td>10</td>\n",
       "    </tr>\n",
       "    <tr>\n",
       "      <th>49</th>\n",
       "      <td>Beltzhoover</td>\n",
       "      <td>3</td>\n",
       "      <td>9</td>\n",
       "    </tr>\n",
       "    <tr>\n",
       "      <th>48</th>\n",
       "      <td>Sheraden</td>\n",
       "      <td>3</td>\n",
       "      <td>6</td>\n",
       "    </tr>\n",
       "    <tr>\n",
       "      <th>47</th>\n",
       "      <td>Lincoln Place</td>\n",
       "      <td>3</td>\n",
       "      <td>4</td>\n",
       "    </tr>\n",
       "  </tbody>\n",
       "</table>\n",
       "</div>"
      ],
      "text/plain": [
       "           Neighborhood  # of unique court types  # of courts\n",
       "17  Squirrel Hill South                        6           26\n",
       "38        Highland Park                        5           20\n",
       "11            Brookline                        5            9\n",
       "0      Allegheny Center                        4            9\n",
       "52           Bloomfield                        4            5\n",
       "4      South Side Flats                        4            5\n",
       "12            Hazelwood                        4           10\n",
       "49          Beltzhoover                        3            9\n",
       "48             Sheraden                        3            6\n",
       "47        Lincoln Place                        3            4"
      ]
     },
     "execution_count": 3,
     "metadata": {},
     "output_type": "execute_result"
    }
   ],
   "source": [
    "pd.DataFrame(ns, columns=[\"Neighborhood\", \"# of unique court types\", \"# of courts\"]).sort_values(by=[\"# of unique court types\"], ascending=False).head(10)"
   ]
  },
  {
   "cell_type": "markdown",
   "id": "9efc2265-bf79-4641-ba54-6507b70d881b",
   "metadata": {},
   "source": [
    "Now, let's plot it!"
   ]
  },
  {
   "cell_type": "code",
   "execution_count": 4,
   "id": "2316ae36-e021-4501-8b89-c8d496b76a0d",
   "metadata": {},
   "outputs": [
    {
     "data": {
      "text/plain": [
       "<BarContainer object of 10 artists>"
      ]
     },
     "execution_count": 4,
     "metadata": {},
     "output_type": "execute_result"
    },
    {
     "data": {
      "image/png": "[encoded data removed]",
      "text/plain": [
       "<Figure size 640x480 with 1 Axes>"
      ]
     },
     "metadata": {},
     "output_type": "display_data"
    }
   ],
   "source": [
    "import matplotlib.pyplot as plt\n",
    "\n",
    "ns.sort(key=lambda x: x[1])\n",
    "ns.reverse()\n",
    "\n",
    "_, ax = plt.subplots()\n",
    "plt.xticks(rotation=75.0)\n",
    "ax.bar([x[0].replace(\" \", \"\\n\") for x in ns[:10]], [x[1] for x in ns[:10]])"
   ]
  }
 ],
 "metadata": {
  "kernelspec": {
   "display_name": "Python 3 (ipykernel)",
   "language": "python",
   "name": "python3"
  },
  "language_info": {
   "codemirror_mode": {
    "name": "ipython",
    "version": 3
   },
   "file_extension": ".py",
   "mimetype": "text/x-python",
   "name": "python",
   "nbconvert_exporter": "python",
   "pygments_lexer": "ipython3",
   "version": "3.12.7"
  }
 },
 "nbformat": 4,
 "nbformat_minor": 5
}
